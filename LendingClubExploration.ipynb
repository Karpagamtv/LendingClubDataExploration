{
 "cells": [
  {
   "cell_type": "code",
   "execution_count": 22,
   "metadata": {
    "collapsed": true
   },
   "outputs": [],
   "source": [
    "import pandas as pd\n",
    "import numpy as np\n",
    "import matplotlib\n",
    "import matplotlib.pyplot as plt\n",
    "matplotlib.style.use('ggplot')\n",
    "# use the code below to make sure plot is shown in Notebook\n",
    "%matplotlib inline "
   ]
  },
  {
   "cell_type": "markdown",
   "metadata": {},
   "source": [
    "## 1. Data Cleaning"
   ]
  },
  {
   "cell_type": "markdown",
   "metadata": {},
   "source": [
    "### 1.1 Load Data (loans.xlsx) into Memory\n",
    "The dataset is a random sample of the Kaggle dataset: https://www.kaggle.com/wendykan/lending-club-loan-data/data.\n",
    "Some limited documentation are available on the webpage if you click \"loan.csv\" on the left, then click \"Column MetaData\". The meanings of some columns can be found by Google. For example \"dti\" means debit to income ratio."
   ]
  },
  {
   "cell_type": "code",
   "execution_count": 351,
   "metadata": {},
   "outputs": [
    {
     "data": {
      "text/html": [
       "<div>\n",
       "<style>\n",
       "    .dataframe thead tr:only-child th {\n",
       "        text-align: right;\n",
       "    }\n",
       "\n",
       "    .dataframe thead th {\n",
       "        text-align: left;\n",
       "    }\n",
       "\n",
       "    .dataframe tbody tr th {\n",
       "        vertical-align: top;\n",
       "    }\n",
       "</style>\n",
       "<table border=\"1\" class=\"dataframe\">\n",
       "  <thead>\n",
       "    <tr style=\"text-align: right;\">\n",
       "      <th></th>\n",
       "      <th>loan_amnt</th>\n",
       "      <th>funded_amnt</th>\n",
       "      <th>term</th>\n",
       "      <th>int_rate</th>\n",
       "      <th>installment</th>\n",
       "      <th>grade</th>\n",
       "      <th>sub_grade</th>\n",
       "      <th>home_ownership</th>\n",
       "      <th>annual_inc</th>\n",
       "      <th>verification_status</th>\n",
       "      <th>...</th>\n",
       "      <th>open_acc</th>\n",
       "      <th>pub_rec</th>\n",
       "      <th>collections_12_mths_ex_med</th>\n",
       "      <th>mths_since_last_major_derog</th>\n",
       "      <th>policy_code</th>\n",
       "      <th>application_type</th>\n",
       "      <th>annual_inc_joint</th>\n",
       "      <th>dti_joint</th>\n",
       "      <th>verification_status_joint</th>\n",
       "      <th>acc_now_delinq</th>\n",
       "    </tr>\n",
       "  </thead>\n",
       "  <tbody>\n",
       "    <tr>\n",
       "      <th>0</th>\n",
       "      <td>6000</td>\n",
       "      <td>6000</td>\n",
       "      <td>36 months</td>\n",
       "      <td>6.99</td>\n",
       "      <td>185.24</td>\n",
       "      <td>A</td>\n",
       "      <td>A3</td>\n",
       "      <td>OWN</td>\n",
       "      <td>50000.0</td>\n",
       "      <td>Not Verified</td>\n",
       "      <td>...</td>\n",
       "      <td>7</td>\n",
       "      <td>0</td>\n",
       "      <td>0.0</td>\n",
       "      <td>NaN</td>\n",
       "      <td>1</td>\n",
       "      <td>INDIVIDUAL</td>\n",
       "      <td>NaN</td>\n",
       "      <td>NaN</td>\n",
       "      <td>NaN</td>\n",
       "      <td>0</td>\n",
       "    </tr>\n",
       "    <tr>\n",
       "      <th>1</th>\n",
       "      <td>15000</td>\n",
       "      <td>15000</td>\n",
       "      <td>36 months</td>\n",
       "      <td>15.41</td>\n",
       "      <td>523.00</td>\n",
       "      <td>D</td>\n",
       "      <td>D1</td>\n",
       "      <td>RENT</td>\n",
       "      <td>58000.0</td>\n",
       "      <td>Verified</td>\n",
       "      <td>...</td>\n",
       "      <td>16</td>\n",
       "      <td>0</td>\n",
       "      <td>0.0</td>\n",
       "      <td>41.0</td>\n",
       "      <td>1</td>\n",
       "      <td>INDIVIDUAL</td>\n",
       "      <td>NaN</td>\n",
       "      <td>NaN</td>\n",
       "      <td>NaN</td>\n",
       "      <td>0</td>\n",
       "    </tr>\n",
       "    <tr>\n",
       "      <th>2</th>\n",
       "      <td>6000</td>\n",
       "      <td>6000</td>\n",
       "      <td>36 months</td>\n",
       "      <td>12.99</td>\n",
       "      <td>202.14</td>\n",
       "      <td>C</td>\n",
       "      <td>C1</td>\n",
       "      <td>RENT</td>\n",
       "      <td>52700.0</td>\n",
       "      <td>Not Verified</td>\n",
       "      <td>...</td>\n",
       "      <td>20</td>\n",
       "      <td>0</td>\n",
       "      <td>0.0</td>\n",
       "      <td>26.0</td>\n",
       "      <td>1</td>\n",
       "      <td>INDIVIDUAL</td>\n",
       "      <td>NaN</td>\n",
       "      <td>NaN</td>\n",
       "      <td>NaN</td>\n",
       "      <td>0</td>\n",
       "    </tr>\n",
       "    <tr>\n",
       "      <th>3</th>\n",
       "      <td>20000</td>\n",
       "      <td>20000</td>\n",
       "      <td>36 months</td>\n",
       "      <td>14.65</td>\n",
       "      <td>689.89</td>\n",
       "      <td>C</td>\n",
       "      <td>C5</td>\n",
       "      <td>RENT</td>\n",
       "      <td>77500.0</td>\n",
       "      <td>Verified</td>\n",
       "      <td>...</td>\n",
       "      <td>25</td>\n",
       "      <td>2</td>\n",
       "      <td>0.0</td>\n",
       "      <td>NaN</td>\n",
       "      <td>1</td>\n",
       "      <td>INDIVIDUAL</td>\n",
       "      <td>NaN</td>\n",
       "      <td>NaN</td>\n",
       "      <td>NaN</td>\n",
       "      <td>0</td>\n",
       "    </tr>\n",
       "    <tr>\n",
       "      <th>4</th>\n",
       "      <td>35000</td>\n",
       "      <td>35000</td>\n",
       "      <td>36 months</td>\n",
       "      <td>13.98</td>\n",
       "      <td>1195.88</td>\n",
       "      <td>C</td>\n",
       "      <td>C3</td>\n",
       "      <td>MORTGAGE</td>\n",
       "      <td>87000.0</td>\n",
       "      <td>Source Verified</td>\n",
       "      <td>...</td>\n",
       "      <td>9</td>\n",
       "      <td>0</td>\n",
       "      <td>0.0</td>\n",
       "      <td>NaN</td>\n",
       "      <td>1</td>\n",
       "      <td>INDIVIDUAL</td>\n",
       "      <td>NaN</td>\n",
       "      <td>NaN</td>\n",
       "      <td>NaN</td>\n",
       "      <td>0</td>\n",
       "    </tr>\n",
       "  </tbody>\n",
       "</table>\n",
       "<p>5 rows × 28 columns</p>\n",
       "</div>"
      ],
      "text/plain": [
       "   loan_amnt  funded_amnt        term  int_rate  installment grade sub_grade  \\\n",
       "0       6000         6000   36 months      6.99       185.24     A        A3   \n",
       "1      15000        15000   36 months     15.41       523.00     D        D1   \n",
       "2       6000         6000   36 months     12.99       202.14     C        C1   \n",
       "3      20000        20000   36 months     14.65       689.89     C        C5   \n",
       "4      35000        35000   36 months     13.98      1195.88     C        C3   \n",
       "\n",
       "  home_ownership  annual_inc verification_status       ...       open_acc  \\\n",
       "0            OWN     50000.0        Not Verified       ...              7   \n",
       "1           RENT     58000.0            Verified       ...             16   \n",
       "2           RENT     52700.0        Not Verified       ...             20   \n",
       "3           RENT     77500.0            Verified       ...             25   \n",
       "4       MORTGAGE     87000.0     Source Verified       ...              9   \n",
       "\n",
       "  pub_rec collections_12_mths_ex_med mths_since_last_major_derog  policy_code  \\\n",
       "0       0                        0.0                         NaN            1   \n",
       "1       0                        0.0                        41.0            1   \n",
       "2       0                        0.0                        26.0            1   \n",
       "3       2                        0.0                         NaN            1   \n",
       "4       0                        0.0                         NaN            1   \n",
       "\n",
       "   application_type annual_inc_joint  dti_joint  verification_status_joint  \\\n",
       "0        INDIVIDUAL              NaN        NaN                        NaN   \n",
       "1        INDIVIDUAL              NaN        NaN                        NaN   \n",
       "2        INDIVIDUAL              NaN        NaN                        NaN   \n",
       "3        INDIVIDUAL              NaN        NaN                        NaN   \n",
       "4        INDIVIDUAL              NaN        NaN                        NaN   \n",
       "\n",
       "   acc_now_delinq  \n",
       "0               0  \n",
       "1               0  \n",
       "2               0  \n",
       "3               0  \n",
       "4               0  \n",
       "\n",
       "[5 rows x 28 columns]"
      ]
     },
     "execution_count": 351,
     "metadata": {},
     "output_type": "execute_result"
    }
   ],
   "source": [
    "import os\n",
    "import pandas as pd\n",
    "os.chdir(\"C:/Users/Karpagam/Documents/Python Scripts\")\n",
    "df=pd.read_csv('loans.csv')\n",
    "df.head()"
   ]
  },
  {
   "cell_type": "markdown",
   "metadata": {},
   "source": [
    "1.2.1 Drop all columns for which more than 10% of values are missing\n",
    "Using such attributes may lead to bias, unless appropriate imputation is applied on the missing values"
   ]
  },
  {
   "cell_type": "code",
   "execution_count": 352,
   "metadata": {},
   "outputs": [
    {
     "data": {
      "text/plain": [
       "[                             Missing  Observations\n",
       " loan_amnt                          0         20000\n",
       " funded_amnt                        0         20000\n",
       " term                               0         20000\n",
       " int_rate                         100         19900\n",
       " installment                        0         20000\n",
       " grade                              0         20000\n",
       " sub_grade                          0         20000\n",
       " home_ownership                     0         20000\n",
       " annual_inc                         0         20000\n",
       " verification_status                0         20000\n",
       " issue_d                            0         20000\n",
       " loan_status                        0         20000\n",
       " pymnt_plan                         0         20000\n",
       " addr_state                         0         20000\n",
       " dti                                0         20000\n",
       " delinq_2yrs                        0         20000\n",
       " earliest_cr_line                   0         20000\n",
       " inq_last_6mths                     0         20000\n",
       " open_acc                           0         20000\n",
       " pub_rec                            0         20000\n",
       " collections_12_mths_ex_med         4         19996\n",
       " mths_since_last_major_derog    14961          5039\n",
       " policy_code                        0         20000\n",
       " application_type                   0         20000\n",
       " annual_inc_joint               19988            12\n",
       " dti_joint                      19988            12\n",
       " verification_status_joint      19988            12\n",
       " acc_now_delinq                     0         20000]"
      ]
     },
     "execution_count": 352,
     "metadata": {},
     "output_type": "execute_result"
    }
   ],
   "source": [
    "#Checking observations and missing values\n",
    "dff=[]\n",
    "s1=pd.DataFrame(df.isnull().sum(),columns=[\"Missing\"])\n",
    "s2=pd.DataFrame(df.count(),columns=[\"Observations\"])\n",
    "f=pd.concat([s1,s2],axis=1)\n",
    "dff.append(f)\n",
    "dff"
   ]
  },
  {
   "cell_type": "code",
   "execution_count": 354,
   "metadata": {},
   "outputs": [
    {
     "name": "stdout",
     "output_type": "stream",
     "text": [
      "Deleted column: mths_since_last_major_derog\n",
      "Deleted column: annual_inc_joint\n",
      "Deleted column: dti_joint\n",
      "Deleted column: verification_status_joint\n"
     ]
    }
   ],
   "source": [
    "df1=pd.DataFrame()\n",
    "df1=df\n",
    "dflen=len(df1.columns)\n",
    "keep_col=pd.DataFrame()\n",
    "df2=pd.DataFrame()\n",
    "\n",
    "for  i in range(0,dflen):\n",
    "\n",
    "        a=df1.iloc[:,i].isnull().sum()\n",
    "        b=df1.iloc[:,i].count()\n",
    "        if((10*(b))/100<a):\n",
    "            print (\"Deleted column:\",df1.columns[i])\n",
    "        else:\n",
    "            keep_col=pd.DataFrame(df1.iloc[:,i])\n",
    "            df2=pd.concat([df2,keep_col],axis=1)\n",
    "            \n",
    "        \n",
    "                "
   ]
  },
  {
   "cell_type": "code",
   "execution_count": 361,
   "metadata": {
    "scrolled": true
   },
   "outputs": [
    {
     "data": {
      "text/html": [
       "<div>\n",
       "<style>\n",
       "    .dataframe thead tr:only-child th {\n",
       "        text-align: right;\n",
       "    }\n",
       "\n",
       "    .dataframe thead th {\n",
       "        text-align: left;\n",
       "    }\n",
       "\n",
       "    .dataframe tbody tr th {\n",
       "        vertical-align: top;\n",
       "    }\n",
       "</style>\n",
       "<table border=\"1\" class=\"dataframe\">\n",
       "  <thead>\n",
       "    <tr style=\"text-align: right;\">\n",
       "      <th></th>\n",
       "      <th>loan_amnt</th>\n",
       "      <th>funded_amnt</th>\n",
       "      <th>term</th>\n",
       "      <th>int_rate</th>\n",
       "      <th>installment</th>\n",
       "      <th>grade</th>\n",
       "      <th>sub_grade</th>\n",
       "      <th>home_ownership</th>\n",
       "      <th>annual_inc</th>\n",
       "      <th>verification_status</th>\n",
       "      <th>...</th>\n",
       "      <th>dti</th>\n",
       "      <th>delinq_2yrs</th>\n",
       "      <th>earliest_cr_line</th>\n",
       "      <th>inq_last_6mths</th>\n",
       "      <th>open_acc</th>\n",
       "      <th>pub_rec</th>\n",
       "      <th>collections_12_mths_ex_med</th>\n",
       "      <th>policy_code</th>\n",
       "      <th>application_type</th>\n",
       "      <th>acc_now_delinq</th>\n",
       "    </tr>\n",
       "  </thead>\n",
       "  <tbody>\n",
       "    <tr>\n",
       "      <th>0</th>\n",
       "      <td>6000</td>\n",
       "      <td>6000</td>\n",
       "      <td>36 months</td>\n",
       "      <td>6.99</td>\n",
       "      <td>185.24</td>\n",
       "      <td>A</td>\n",
       "      <td>A3</td>\n",
       "      <td>OWN</td>\n",
       "      <td>50000.0</td>\n",
       "      <td>Not Verified</td>\n",
       "      <td>...</td>\n",
       "      <td>25.06</td>\n",
       "      <td>0</td>\n",
       "      <td>Nov-1998</td>\n",
       "      <td>0</td>\n",
       "      <td>7</td>\n",
       "      <td>0</td>\n",
       "      <td>0.0</td>\n",
       "      <td>1</td>\n",
       "      <td>INDIVIDUAL</td>\n",
       "      <td>0</td>\n",
       "    </tr>\n",
       "    <tr>\n",
       "      <th>1</th>\n",
       "      <td>15000</td>\n",
       "      <td>15000</td>\n",
       "      <td>36 months</td>\n",
       "      <td>15.41</td>\n",
       "      <td>523.00</td>\n",
       "      <td>D</td>\n",
       "      <td>D1</td>\n",
       "      <td>RENT</td>\n",
       "      <td>58000.0</td>\n",
       "      <td>Verified</td>\n",
       "      <td>...</td>\n",
       "      <td>22.99</td>\n",
       "      <td>0</td>\n",
       "      <td>Sep-1998</td>\n",
       "      <td>0</td>\n",
       "      <td>16</td>\n",
       "      <td>0</td>\n",
       "      <td>0.0</td>\n",
       "      <td>1</td>\n",
       "      <td>INDIVIDUAL</td>\n",
       "      <td>0</td>\n",
       "    </tr>\n",
       "    <tr>\n",
       "      <th>2</th>\n",
       "      <td>6000</td>\n",
       "      <td>6000</td>\n",
       "      <td>36 months</td>\n",
       "      <td>12.99</td>\n",
       "      <td>202.14</td>\n",
       "      <td>C</td>\n",
       "      <td>C1</td>\n",
       "      <td>RENT</td>\n",
       "      <td>52700.0</td>\n",
       "      <td>Not Verified</td>\n",
       "      <td>...</td>\n",
       "      <td>21.16</td>\n",
       "      <td>0</td>\n",
       "      <td>Aug-1990</td>\n",
       "      <td>0</td>\n",
       "      <td>20</td>\n",
       "      <td>0</td>\n",
       "      <td>0.0</td>\n",
       "      <td>1</td>\n",
       "      <td>INDIVIDUAL</td>\n",
       "      <td>0</td>\n",
       "    </tr>\n",
       "    <tr>\n",
       "      <th>3</th>\n",
       "      <td>20000</td>\n",
       "      <td>20000</td>\n",
       "      <td>36 months</td>\n",
       "      <td>14.65</td>\n",
       "      <td>689.89</td>\n",
       "      <td>C</td>\n",
       "      <td>C5</td>\n",
       "      <td>RENT</td>\n",
       "      <td>77500.0</td>\n",
       "      <td>Verified</td>\n",
       "      <td>...</td>\n",
       "      <td>29.67</td>\n",
       "      <td>0</td>\n",
       "      <td>Dec-1992</td>\n",
       "      <td>1</td>\n",
       "      <td>25</td>\n",
       "      <td>2</td>\n",
       "      <td>0.0</td>\n",
       "      <td>1</td>\n",
       "      <td>INDIVIDUAL</td>\n",
       "      <td>0</td>\n",
       "    </tr>\n",
       "    <tr>\n",
       "      <th>4</th>\n",
       "      <td>35000</td>\n",
       "      <td>35000</td>\n",
       "      <td>36 months</td>\n",
       "      <td>13.98</td>\n",
       "      <td>1195.88</td>\n",
       "      <td>C</td>\n",
       "      <td>C3</td>\n",
       "      <td>MORTGAGE</td>\n",
       "      <td>87000.0</td>\n",
       "      <td>Source Verified</td>\n",
       "      <td>...</td>\n",
       "      <td>22.33</td>\n",
       "      <td>1</td>\n",
       "      <td>May-1988</td>\n",
       "      <td>0</td>\n",
       "      <td>9</td>\n",
       "      <td>0</td>\n",
       "      <td>0.0</td>\n",
       "      <td>1</td>\n",
       "      <td>INDIVIDUAL</td>\n",
       "      <td>0</td>\n",
       "    </tr>\n",
       "  </tbody>\n",
       "</table>\n",
       "<p>5 rows × 24 columns</p>\n",
       "</div>"
      ],
      "text/plain": [
       "   loan_amnt  funded_amnt        term  int_rate  installment grade sub_grade  \\\n",
       "0       6000         6000   36 months      6.99       185.24     A        A3   \n",
       "1      15000        15000   36 months     15.41       523.00     D        D1   \n",
       "2       6000         6000   36 months     12.99       202.14     C        C1   \n",
       "3      20000        20000   36 months     14.65       689.89     C        C5   \n",
       "4      35000        35000   36 months     13.98      1195.88     C        C3   \n",
       "\n",
       "  home_ownership  annual_inc verification_status       ...          dti  \\\n",
       "0            OWN     50000.0        Not Verified       ...        25.06   \n",
       "1           RENT     58000.0            Verified       ...        22.99   \n",
       "2           RENT     52700.0        Not Verified       ...        21.16   \n",
       "3           RENT     77500.0            Verified       ...        29.67   \n",
       "4       MORTGAGE     87000.0     Source Verified       ...        22.33   \n",
       "\n",
       "  delinq_2yrs earliest_cr_line inq_last_6mths  open_acc  pub_rec  \\\n",
       "0           0         Nov-1998              0         7        0   \n",
       "1           0         Sep-1998              0        16        0   \n",
       "2           0         Aug-1990              0        20        0   \n",
       "3           0         Dec-1992              1        25        2   \n",
       "4           1         May-1988              0         9        0   \n",
       "\n",
       "  collections_12_mths_ex_med  policy_code  application_type  acc_now_delinq  \n",
       "0                        0.0            1        INDIVIDUAL               0  \n",
       "1                        0.0            1        INDIVIDUAL               0  \n",
       "2                        0.0            1        INDIVIDUAL               0  \n",
       "3                        0.0            1        INDIVIDUAL               0  \n",
       "4                        0.0            1        INDIVIDUAL               0  \n",
       "\n",
       "[5 rows x 24 columns]"
      ]
     },
     "execution_count": 361,
     "metadata": {},
     "output_type": "execute_result"
    }
   ],
   "source": [
    "df2.head()\n"
   ]
  },
  {
   "cell_type": "markdown",
   "metadata": {},
   "source": [
    "1.2.2 Dropping all columns with only one value (missing value does not count)\n",
    "Such attributes have no variation and are not informative at all"
   ]
  },
  {
   "cell_type": "code",
   "execution_count": 356,
   "metadata": {},
   "outputs": [
    {
     "data": {
      "text/plain": [
       "Index(['pymnt_plan', 'policy_code'], dtype='object')"
      ]
     },
     "execution_count": 356,
     "metadata": {},
     "output_type": "execute_result"
    }
   ],
   "source": [
    "cols = list(df2)\n",
    "nunique = df2.apply(pd.Series.nunique)\n",
    "cols_to_drop = nunique[nunique == 1].index\n",
    "df3=df2.drop(cols_to_drop, axis=1)\n",
    "\n",
    "\n",
    "cols_to_drop"
   ]
  },
  {
   "cell_type": "code",
   "execution_count": 359,
   "metadata": {},
   "outputs": [
    {
     "data": {
      "text/html": [
       "<div>\n",
       "<style>\n",
       "    .dataframe thead tr:only-child th {\n",
       "        text-align: right;\n",
       "    }\n",
       "\n",
       "    .dataframe thead th {\n",
       "        text-align: left;\n",
       "    }\n",
       "\n",
       "    .dataframe tbody tr th {\n",
       "        vertical-align: top;\n",
       "    }\n",
       "</style>\n",
       "<table border=\"1\" class=\"dataframe\">\n",
       "  <thead>\n",
       "    <tr style=\"text-align: right;\">\n",
       "      <th></th>\n",
       "      <th>loan_amnt</th>\n",
       "      <th>funded_amnt</th>\n",
       "      <th>term</th>\n",
       "      <th>int_rate</th>\n",
       "      <th>installment</th>\n",
       "      <th>grade</th>\n",
       "      <th>sub_grade</th>\n",
       "      <th>home_ownership</th>\n",
       "      <th>annual_inc</th>\n",
       "      <th>verification_status</th>\n",
       "      <th>...</th>\n",
       "      <th>addr_state</th>\n",
       "      <th>dti</th>\n",
       "      <th>delinq_2yrs</th>\n",
       "      <th>earliest_cr_line</th>\n",
       "      <th>inq_last_6mths</th>\n",
       "      <th>open_acc</th>\n",
       "      <th>pub_rec</th>\n",
       "      <th>collections_12_mths_ex_med</th>\n",
       "      <th>application_type</th>\n",
       "      <th>acc_now_delinq</th>\n",
       "    </tr>\n",
       "  </thead>\n",
       "  <tbody>\n",
       "    <tr>\n",
       "      <th>0</th>\n",
       "      <td>6000</td>\n",
       "      <td>6000</td>\n",
       "      <td>36 months</td>\n",
       "      <td>6.99</td>\n",
       "      <td>185.24</td>\n",
       "      <td>A</td>\n",
       "      <td>A3</td>\n",
       "      <td>OWN</td>\n",
       "      <td>50000.0</td>\n",
       "      <td>Not Verified</td>\n",
       "      <td>...</td>\n",
       "      <td>AL</td>\n",
       "      <td>25.06</td>\n",
       "      <td>0</td>\n",
       "      <td>Nov-1998</td>\n",
       "      <td>0</td>\n",
       "      <td>7</td>\n",
       "      <td>0</td>\n",
       "      <td>0.0</td>\n",
       "      <td>INDIVIDUAL</td>\n",
       "      <td>0</td>\n",
       "    </tr>\n",
       "    <tr>\n",
       "      <th>1</th>\n",
       "      <td>15000</td>\n",
       "      <td>15000</td>\n",
       "      <td>36 months</td>\n",
       "      <td>15.41</td>\n",
       "      <td>523.00</td>\n",
       "      <td>D</td>\n",
       "      <td>D1</td>\n",
       "      <td>RENT</td>\n",
       "      <td>58000.0</td>\n",
       "      <td>Verified</td>\n",
       "      <td>...</td>\n",
       "      <td>NV</td>\n",
       "      <td>22.99</td>\n",
       "      <td>0</td>\n",
       "      <td>Sep-1998</td>\n",
       "      <td>0</td>\n",
       "      <td>16</td>\n",
       "      <td>0</td>\n",
       "      <td>0.0</td>\n",
       "      <td>INDIVIDUAL</td>\n",
       "      <td>0</td>\n",
       "    </tr>\n",
       "    <tr>\n",
       "      <th>2</th>\n",
       "      <td>6000</td>\n",
       "      <td>6000</td>\n",
       "      <td>36 months</td>\n",
       "      <td>12.99</td>\n",
       "      <td>202.14</td>\n",
       "      <td>C</td>\n",
       "      <td>C1</td>\n",
       "      <td>RENT</td>\n",
       "      <td>52700.0</td>\n",
       "      <td>Not Verified</td>\n",
       "      <td>...</td>\n",
       "      <td>CA</td>\n",
       "      <td>21.16</td>\n",
       "      <td>0</td>\n",
       "      <td>Aug-1990</td>\n",
       "      <td>0</td>\n",
       "      <td>20</td>\n",
       "      <td>0</td>\n",
       "      <td>0.0</td>\n",
       "      <td>INDIVIDUAL</td>\n",
       "      <td>0</td>\n",
       "    </tr>\n",
       "    <tr>\n",
       "      <th>3</th>\n",
       "      <td>20000</td>\n",
       "      <td>20000</td>\n",
       "      <td>36 months</td>\n",
       "      <td>14.65</td>\n",
       "      <td>689.89</td>\n",
       "      <td>C</td>\n",
       "      <td>C5</td>\n",
       "      <td>RENT</td>\n",
       "      <td>77500.0</td>\n",
       "      <td>Verified</td>\n",
       "      <td>...</td>\n",
       "      <td>VA</td>\n",
       "      <td>29.67</td>\n",
       "      <td>0</td>\n",
       "      <td>Dec-1992</td>\n",
       "      <td>1</td>\n",
       "      <td>25</td>\n",
       "      <td>2</td>\n",
       "      <td>0.0</td>\n",
       "      <td>INDIVIDUAL</td>\n",
       "      <td>0</td>\n",
       "    </tr>\n",
       "    <tr>\n",
       "      <th>4</th>\n",
       "      <td>35000</td>\n",
       "      <td>35000</td>\n",
       "      <td>36 months</td>\n",
       "      <td>13.98</td>\n",
       "      <td>1195.88</td>\n",
       "      <td>C</td>\n",
       "      <td>C3</td>\n",
       "      <td>MORTGAGE</td>\n",
       "      <td>87000.0</td>\n",
       "      <td>Source Verified</td>\n",
       "      <td>...</td>\n",
       "      <td>CA</td>\n",
       "      <td>22.33</td>\n",
       "      <td>1</td>\n",
       "      <td>May-1988</td>\n",
       "      <td>0</td>\n",
       "      <td>9</td>\n",
       "      <td>0</td>\n",
       "      <td>0.0</td>\n",
       "      <td>INDIVIDUAL</td>\n",
       "      <td>0</td>\n",
       "    </tr>\n",
       "  </tbody>\n",
       "</table>\n",
       "<p>5 rows × 22 columns</p>\n",
       "</div>"
      ],
      "text/plain": [
       "   loan_amnt  funded_amnt        term  int_rate  installment grade sub_grade  \\\n",
       "0       6000         6000   36 months      6.99       185.24     A        A3   \n",
       "1      15000        15000   36 months     15.41       523.00     D        D1   \n",
       "2       6000         6000   36 months     12.99       202.14     C        C1   \n",
       "3      20000        20000   36 months     14.65       689.89     C        C5   \n",
       "4      35000        35000   36 months     13.98      1195.88     C        C3   \n",
       "\n",
       "  home_ownership  annual_inc verification_status       ...       addr_state  \\\n",
       "0            OWN     50000.0        Not Verified       ...               AL   \n",
       "1           RENT     58000.0            Verified       ...               NV   \n",
       "2           RENT     52700.0        Not Verified       ...               CA   \n",
       "3           RENT     77500.0            Verified       ...               VA   \n",
       "4       MORTGAGE     87000.0     Source Verified       ...               CA   \n",
       "\n",
       "     dti delinq_2yrs  earliest_cr_line  inq_last_6mths open_acc  pub_rec  \\\n",
       "0  25.06           0          Nov-1998               0        7        0   \n",
       "1  22.99           0          Sep-1998               0       16        0   \n",
       "2  21.16           0          Aug-1990               0       20        0   \n",
       "3  29.67           0          Dec-1992               1       25        2   \n",
       "4  22.33           1          May-1988               0        9        0   \n",
       "\n",
       "   collections_12_mths_ex_med  application_type  acc_now_delinq  \n",
       "0                         0.0        INDIVIDUAL               0  \n",
       "1                         0.0        INDIVIDUAL               0  \n",
       "2                         0.0        INDIVIDUAL               0  \n",
       "3                         0.0        INDIVIDUAL               0  \n",
       "4                         0.0        INDIVIDUAL               0  \n",
       "\n",
       "[5 rows x 22 columns]"
      ]
     },
     "execution_count": 359,
     "metadata": {},
     "output_type": "execute_result"
    }
   ],
   "source": [
    "df3.head()\n"
   ]
  },
  {
   "cell_type": "markdown",
   "metadata": {},
   "source": [
    "1.2.3 Dropping all columns for which more than 98% of observations has the same value (missing value does not count)\n",
    "Such attributes may lead to singularity issue if used, as they are close to a constant. The cutoff 98% is a bit arbitrary."
   ]
  },
  {
   "cell_type": "code",
   "execution_count": 366,
   "metadata": {},
   "outputs": [
    {
     "name": "stdout",
     "output_type": "stream",
     "text": [
      "Deleted column: collections_12_mths_ex_med\n",
      "Deleted column: application_type\n",
      "Deleted column: acc_now_delinq\n"
     ]
    }
   ],
   "source": [
    "df4=df3\n",
    "df4len=len(df4.columns)\n",
    "df5=pd.DataFrame()\n",
    "for i in range(0,df4len):\n",
    "    a=df4.ix[:,i].value_counts().max()\n",
    "    b=df4.ix[:,i].count()\n",
    "    if(a/b >0.98):\n",
    "           print(\"Deleted column\",df.columns[i])\n",
    "    else:\n",
    "            keep_col=pd.DataFrame(df4.iloc[:,i])\n",
    "            df5=pd.concat([df5,keep_col],axis=1)\n",
    "         \n",
    "      "
   ]
  },
  {
   "cell_type": "code",
   "execution_count": 8,
   "metadata": {},
   "outputs": [
    {
     "data": {
      "text/html": [
       "<div>\n",
       "<style>\n",
       "    .dataframe thead tr:only-child th {\n",
       "        text-align: right;\n",
       "    }\n",
       "\n",
       "    .dataframe thead th {\n",
       "        text-align: left;\n",
       "    }\n",
       "\n",
       "    .dataframe tbody tr th {\n",
       "        vertical-align: top;\n",
       "    }\n",
       "</style>\n",
       "<table border=\"1\" class=\"dataframe\">\n",
       "  <thead>\n",
       "    <tr style=\"text-align: right;\">\n",
       "      <th></th>\n",
       "      <th>loan_amnt</th>\n",
       "      <th>funded_amnt</th>\n",
       "      <th>term</th>\n",
       "      <th>int_rate</th>\n",
       "      <th>installment</th>\n",
       "      <th>grade</th>\n",
       "      <th>sub_grade</th>\n",
       "      <th>home_ownership</th>\n",
       "      <th>annual_inc</th>\n",
       "      <th>verification_status</th>\n",
       "      <th>issue_d</th>\n",
       "      <th>loan_status</th>\n",
       "      <th>addr_state</th>\n",
       "      <th>dti</th>\n",
       "      <th>delinq_2yrs</th>\n",
       "      <th>earliest_cr_line</th>\n",
       "      <th>inq_last_6mths</th>\n",
       "      <th>open_acc</th>\n",
       "      <th>pub_rec</th>\n",
       "    </tr>\n",
       "  </thead>\n",
       "  <tbody>\n",
       "    <tr>\n",
       "      <th>0</th>\n",
       "      <td>6000</td>\n",
       "      <td>6000</td>\n",
       "      <td>36 months</td>\n",
       "      <td>6.99</td>\n",
       "      <td>185.24</td>\n",
       "      <td>A</td>\n",
       "      <td>A3</td>\n",
       "      <td>OWN</td>\n",
       "      <td>50000.0</td>\n",
       "      <td>Not Verified</td>\n",
       "      <td>Jan-2015</td>\n",
       "      <td>Current</td>\n",
       "      <td>AL</td>\n",
       "      <td>25.06</td>\n",
       "      <td>0</td>\n",
       "      <td>Nov-1998</td>\n",
       "      <td>0</td>\n",
       "      <td>7</td>\n",
       "      <td>0</td>\n",
       "    </tr>\n",
       "    <tr>\n",
       "      <th>1</th>\n",
       "      <td>15000</td>\n",
       "      <td>15000</td>\n",
       "      <td>36 months</td>\n",
       "      <td>15.41</td>\n",
       "      <td>523.00</td>\n",
       "      <td>D</td>\n",
       "      <td>D1</td>\n",
       "      <td>RENT</td>\n",
       "      <td>58000.0</td>\n",
       "      <td>Verified</td>\n",
       "      <td>Nov-2015</td>\n",
       "      <td>Current</td>\n",
       "      <td>NV</td>\n",
       "      <td>22.99</td>\n",
       "      <td>0</td>\n",
       "      <td>Sep-1998</td>\n",
       "      <td>0</td>\n",
       "      <td>16</td>\n",
       "      <td>0</td>\n",
       "    </tr>\n",
       "    <tr>\n",
       "      <th>2</th>\n",
       "      <td>6000</td>\n",
       "      <td>6000</td>\n",
       "      <td>36 months</td>\n",
       "      <td>12.99</td>\n",
       "      <td>202.14</td>\n",
       "      <td>C</td>\n",
       "      <td>C1</td>\n",
       "      <td>RENT</td>\n",
       "      <td>52700.0</td>\n",
       "      <td>Not Verified</td>\n",
       "      <td>Sep-2014</td>\n",
       "      <td>In Grace Period</td>\n",
       "      <td>CA</td>\n",
       "      <td>21.16</td>\n",
       "      <td>0</td>\n",
       "      <td>Aug-1990</td>\n",
       "      <td>0</td>\n",
       "      <td>20</td>\n",
       "      <td>0</td>\n",
       "    </tr>\n",
       "    <tr>\n",
       "      <th>3</th>\n",
       "      <td>20000</td>\n",
       "      <td>20000</td>\n",
       "      <td>36 months</td>\n",
       "      <td>14.65</td>\n",
       "      <td>689.89</td>\n",
       "      <td>C</td>\n",
       "      <td>C5</td>\n",
       "      <td>RENT</td>\n",
       "      <td>77500.0</td>\n",
       "      <td>Verified</td>\n",
       "      <td>Feb-2015</td>\n",
       "      <td>Current</td>\n",
       "      <td>VA</td>\n",
       "      <td>29.67</td>\n",
       "      <td>0</td>\n",
       "      <td>Dec-1992</td>\n",
       "      <td>1</td>\n",
       "      <td>25</td>\n",
       "      <td>2</td>\n",
       "    </tr>\n",
       "    <tr>\n",
       "      <th>4</th>\n",
       "      <td>35000</td>\n",
       "      <td>35000</td>\n",
       "      <td>36 months</td>\n",
       "      <td>13.98</td>\n",
       "      <td>1195.88</td>\n",
       "      <td>C</td>\n",
       "      <td>C3</td>\n",
       "      <td>MORTGAGE</td>\n",
       "      <td>87000.0</td>\n",
       "      <td>Source Verified</td>\n",
       "      <td>Jul-2014</td>\n",
       "      <td>Current</td>\n",
       "      <td>CA</td>\n",
       "      <td>22.33</td>\n",
       "      <td>1</td>\n",
       "      <td>May-1988</td>\n",
       "      <td>0</td>\n",
       "      <td>9</td>\n",
       "      <td>0</td>\n",
       "    </tr>\n",
       "  </tbody>\n",
       "</table>\n",
       "</div>"
      ],
      "text/plain": [
       "   loan_amnt  funded_amnt        term  int_rate  installment grade sub_grade  \\\n",
       "0       6000         6000   36 months      6.99       185.24     A        A3   \n",
       "1      15000        15000   36 months     15.41       523.00     D        D1   \n",
       "2       6000         6000   36 months     12.99       202.14     C        C1   \n",
       "3      20000        20000   36 months     14.65       689.89     C        C5   \n",
       "4      35000        35000   36 months     13.98      1195.88     C        C3   \n",
       "\n",
       "  home_ownership  annual_inc verification_status   issue_d      loan_status  \\\n",
       "0            OWN     50000.0        Not Verified  Jan-2015          Current   \n",
       "1           RENT     58000.0            Verified  Nov-2015          Current   \n",
       "2           RENT     52700.0        Not Verified  Sep-2014  In Grace Period   \n",
       "3           RENT     77500.0            Verified  Feb-2015          Current   \n",
       "4       MORTGAGE     87000.0     Source Verified  Jul-2014          Current   \n",
       "\n",
       "  addr_state    dti  delinq_2yrs earliest_cr_line  inq_last_6mths  open_acc  \\\n",
       "0         AL  25.06            0         Nov-1998               0         7   \n",
       "1         NV  22.99            0         Sep-1998               0        16   \n",
       "2         CA  21.16            0         Aug-1990               0        20   \n",
       "3         VA  29.67            0         Dec-1992               1        25   \n",
       "4         CA  22.33            1         May-1988               0         9   \n",
       "\n",
       "   pub_rec  \n",
       "0        0  \n",
       "1        0  \n",
       "2        0  \n",
       "3        2  \n",
       "4        0  "
      ]
     },
     "execution_count": 8,
     "metadata": {},
     "output_type": "execute_result"
    }
   ],
   "source": [
    " df5.head() "
   ]
  },
  {
   "cell_type": "code",
   "execution_count": 9,
   "metadata": {},
   "outputs": [
    {
     "data": {
      "text/plain": [
       "Index(['loan_amnt', 'funded_amnt', 'term', 'int_rate', 'installment', 'grade',\n",
       "       'sub_grade', 'home_ownership', 'annual_inc', 'verification_status',\n",
       "       'issue_d', 'loan_status', 'addr_state', 'dti', 'delinq_2yrs',\n",
       "       'earliest_cr_line', 'inq_last_6mths', 'open_acc', 'pub_rec'],\n",
       "      dtype='object')"
      ]
     },
     "execution_count": 9,
     "metadata": {},
     "output_type": "execute_result"
    }
   ],
   "source": [
    "# Now print out the column index of the dataset\n",
    "df5.columns"
   ]
  },
  {
   "cell_type": "code",
   "execution_count": 10,
   "metadata": {},
   "outputs": [
    {
     "data": {
      "text/plain": [
       "19"
      ]
     },
     "execution_count": 10,
     "metadata": {},
     "output_type": "execute_result"
    }
   ],
   "source": [
    "# Print the number of columns in the dataset\n",
    "len(df5.columns)"
   ]
  },
  {
   "cell_type": "markdown",
   "metadata": {},
   "source": [
    "### 1.3 Data Transformation"
   ]
  },
  {
   "cell_type": "markdown",
   "metadata": {
    "collapsed": true
   },
   "source": [
    "1.3.1 Converting the \"term\" column to numeric and \"issue_d\" to datetime."
   ]
  },
  {
   "cell_type": "code",
   "execution_count": 369,
   "metadata": {},
   "outputs": [
    {
     "data": {
      "text/plain": [
       " 36 months    14029\n",
       " 60 months     5971\n",
       "Name: term, dtype: int64"
      ]
     },
     "execution_count": 369,
     "metadata": {},
     "output_type": "execute_result"
    }
   ],
   "source": [
    "#looking at the values of term\n",
    "df5['term'].value_counts()"
   ]
  },
  {
   "cell_type": "code",
   "execution_count": 370,
   "metadata": {
    "collapsed": true
   },
   "outputs": [],
   "source": [
    "x=len(df5.term)\n",
    "for i in range(0,x):\n",
    "    df5.loc[i,'term']=df5.loc[i,'term'][1:3]"
   ]
  },
  {
   "cell_type": "code",
   "execution_count": 371,
   "metadata": {
    "collapsed": true
   },
   "outputs": [],
   "source": [
    "df5['term']=pd.to_numeric(df5['term']).astype(int)\n",
    "df5['issue_d']=pd.to_datetime(df5['issue_d'])"
   ]
  },
  {
   "cell_type": "code",
   "execution_count": 373,
   "metadata": {},
   "outputs": [
    {
     "data": {
      "text/plain": [
       "(dtype('int32'), dtype('<M8[ns]'))"
      ]
     },
     "execution_count": 373,
     "metadata": {},
     "output_type": "execute_result"
    }
   ],
   "source": [
    "df5.term.dtypes,df5.issue_d.dtypes"
   ]
  },
  {
   "cell_type": "markdown",
   "metadata": {},
   "source": [
    "1.3.2 In the \"home_ownership\" columns, set values with \"ANY\", \"OTHER\", and \"NONE\" as missing"
   ]
  },
  {
   "cell_type": "code",
   "execution_count": 379,
   "metadata": {},
   "outputs": [
    {
     "data": {
      "text/plain": [
       "MORTGAGE    9903\n",
       "RENT        8083\n",
       "OWN         2006\n",
       "Missing        8\n",
       "Name: home_ownership, dtype: int64"
      ]
     },
     "execution_count": 379,
     "metadata": {},
     "output_type": "execute_result"
    }
   ],
   "source": [
    "df5['home_ownership']=df5['home_ownership'].replace(\"ANY\",\"Missing\")\n",
    "df5['home_ownership']=df5['home_ownership'].replace(\"OTHER\",\"Missing\")\n",
    "df5['home_ownership']=df5['home_ownership'].replace(\"NONE\",\"Missing\")\n",
    "\n",
    "df5['home_ownership'].value_counts()"
   ]
  },
  {
   "cell_type": "markdown",
   "metadata": {},
   "source": [
    "1.3.3 The interest rate for the last 100 observations are missing. Replacing them with the average interest rate of the loans in the same state and with the same term.  "
   ]
  },
  {
   "cell_type": "code",
   "execution_count": 380,
   "metadata": {
    "collapsed": true
   },
   "outputs": [],
   "source": [
    "p=df5.groupby(['term','addr_state'])['int_rate'].transform(lambda x: x.fillna(x.mean()))\n"
   ]
  },
  {
   "cell_type": "code",
   "execution_count": 381,
   "metadata": {
    "collapsed": true
   },
   "outputs": [],
   "source": [
    "pd.options.mode.chained_assignment = None\n",
    "\n",
    "df5.int_rate.iloc[-100:]=p.iloc[-100:]"
   ]
  },
  {
   "cell_type": "code",
   "execution_count": 382,
   "metadata": {},
   "outputs": [
    {
     "data": {
      "text/html": [
       "<div>\n",
       "<style>\n",
       "    .dataframe thead tr:only-child th {\n",
       "        text-align: right;\n",
       "    }\n",
       "\n",
       "    .dataframe thead th {\n",
       "        text-align: left;\n",
       "    }\n",
       "\n",
       "    .dataframe tbody tr th {\n",
       "        vertical-align: top;\n",
       "    }\n",
       "</style>\n",
       "<table border=\"1\" class=\"dataframe\">\n",
       "  <thead>\n",
       "    <tr style=\"text-align: right;\">\n",
       "      <th></th>\n",
       "      <th>loan_amnt</th>\n",
       "      <th>funded_amnt</th>\n",
       "      <th>term</th>\n",
       "      <th>int_rate</th>\n",
       "      <th>installment</th>\n",
       "      <th>grade</th>\n",
       "      <th>sub_grade</th>\n",
       "      <th>home_ownership</th>\n",
       "      <th>annual_inc</th>\n",
       "      <th>verification_status</th>\n",
       "      <th>issue_d</th>\n",
       "      <th>loan_status</th>\n",
       "      <th>addr_state</th>\n",
       "      <th>dti</th>\n",
       "      <th>delinq_2yrs</th>\n",
       "      <th>earliest_cr_line</th>\n",
       "      <th>inq_last_6mths</th>\n",
       "      <th>open_acc</th>\n",
       "      <th>pub_rec</th>\n",
       "    </tr>\n",
       "  </thead>\n",
       "  <tbody>\n",
       "    <tr>\n",
       "      <th>19995</th>\n",
       "      <td>6500</td>\n",
       "      <td>6500</td>\n",
       "      <td>36</td>\n",
       "      <td>11.792004</td>\n",
       "      <td>218.05</td>\n",
       "      <td>C</td>\n",
       "      <td>C2</td>\n",
       "      <td>MORTGAGE</td>\n",
       "      <td>90000.0</td>\n",
       "      <td>Source Verified</td>\n",
       "      <td>2015-04-01</td>\n",
       "      <td>Current</td>\n",
       "      <td>TX</td>\n",
       "      <td>17.81</td>\n",
       "      <td>1</td>\n",
       "      <td>Dec-1995</td>\n",
       "      <td>0</td>\n",
       "      <td>13</td>\n",
       "      <td>0</td>\n",
       "    </tr>\n",
       "    <tr>\n",
       "      <th>19996</th>\n",
       "      <td>5600</td>\n",
       "      <td>5600</td>\n",
       "      <td>36</td>\n",
       "      <td>12.008995</td>\n",
       "      <td>185.98</td>\n",
       "      <td>B</td>\n",
       "      <td>B3</td>\n",
       "      <td>MORTGAGE</td>\n",
       "      <td>90000.0</td>\n",
       "      <td>Source Verified</td>\n",
       "      <td>2013-09-01</td>\n",
       "      <td>Fully Paid</td>\n",
       "      <td>CA</td>\n",
       "      <td>9.29</td>\n",
       "      <td>0</td>\n",
       "      <td>Sep-2004</td>\n",
       "      <td>3</td>\n",
       "      <td>11</td>\n",
       "      <td>0</td>\n",
       "    </tr>\n",
       "    <tr>\n",
       "      <th>19997</th>\n",
       "      <td>6000</td>\n",
       "      <td>6000</td>\n",
       "      <td>36</td>\n",
       "      <td>12.407181</td>\n",
       "      <td>207.97</td>\n",
       "      <td>C</td>\n",
       "      <td>C5</td>\n",
       "      <td>OWN</td>\n",
       "      <td>44000.0</td>\n",
       "      <td>Verified</td>\n",
       "      <td>2014-07-01</td>\n",
       "      <td>Fully Paid</td>\n",
       "      <td>GA</td>\n",
       "      <td>33.55</td>\n",
       "      <td>0</td>\n",
       "      <td>Jul-2003</td>\n",
       "      <td>4</td>\n",
       "      <td>5</td>\n",
       "      <td>0</td>\n",
       "    </tr>\n",
       "    <tr>\n",
       "      <th>19998</th>\n",
       "      <td>15825</td>\n",
       "      <td>15825</td>\n",
       "      <td>60</td>\n",
       "      <td>16.091026</td>\n",
       "      <td>410.43</td>\n",
       "      <td>E</td>\n",
       "      <td>E3</td>\n",
       "      <td>RENT</td>\n",
       "      <td>52800.0</td>\n",
       "      <td>Verified</td>\n",
       "      <td>2015-12-01</td>\n",
       "      <td>Current</td>\n",
       "      <td>LA</td>\n",
       "      <td>26.95</td>\n",
       "      <td>0</td>\n",
       "      <td>May-2010</td>\n",
       "      <td>0</td>\n",
       "      <td>11</td>\n",
       "      <td>0</td>\n",
       "    </tr>\n",
       "    <tr>\n",
       "      <th>19999</th>\n",
       "      <td>20000</td>\n",
       "      <td>20000</td>\n",
       "      <td>36</td>\n",
       "      <td>12.299280</td>\n",
       "      <td>614.08</td>\n",
       "      <td>A</td>\n",
       "      <td>A2</td>\n",
       "      <td>MORTGAGE</td>\n",
       "      <td>106000.0</td>\n",
       "      <td>Not Verified</td>\n",
       "      <td>2013-03-01</td>\n",
       "      <td>Fully Paid</td>\n",
       "      <td>PA</td>\n",
       "      <td>7.83</td>\n",
       "      <td>0</td>\n",
       "      <td>Jun-2000</td>\n",
       "      <td>0</td>\n",
       "      <td>8</td>\n",
       "      <td>0</td>\n",
       "    </tr>\n",
       "  </tbody>\n",
       "</table>\n",
       "</div>"
      ],
      "text/plain": [
       "       loan_amnt  funded_amnt  term   int_rate  installment grade sub_grade  \\\n",
       "19995       6500         6500    36  11.792004       218.05     C        C2   \n",
       "19996       5600         5600    36  12.008995       185.98     B        B3   \n",
       "19997       6000         6000    36  12.407181       207.97     C        C5   \n",
       "19998      15825        15825    60  16.091026       410.43     E        E3   \n",
       "19999      20000        20000    36  12.299280       614.08     A        A2   \n",
       "\n",
       "      home_ownership  annual_inc verification_status    issue_d loan_status  \\\n",
       "19995       MORTGAGE     90000.0     Source Verified 2015-04-01     Current   \n",
       "19996       MORTGAGE     90000.0     Source Verified 2013-09-01  Fully Paid   \n",
       "19997            OWN     44000.0            Verified 2014-07-01  Fully Paid   \n",
       "19998           RENT     52800.0            Verified 2015-12-01     Current   \n",
       "19999       MORTGAGE    106000.0        Not Verified 2013-03-01  Fully Paid   \n",
       "\n",
       "      addr_state    dti  delinq_2yrs earliest_cr_line  inq_last_6mths  \\\n",
       "19995         TX  17.81            1         Dec-1995               0   \n",
       "19996         CA   9.29            0         Sep-2004               3   \n",
       "19997         GA  33.55            0         Jul-2003               4   \n",
       "19998         LA  26.95            0         May-2010               0   \n",
       "19999         PA   7.83            0         Jun-2000               0   \n",
       "\n",
       "       open_acc  pub_rec  \n",
       "19995        13        0  \n",
       "19996        11        0  \n",
       "19997         5        0  \n",
       "19998        11        0  \n",
       "19999         8        0  "
      ]
     },
     "execution_count": 382,
     "metadata": {},
     "output_type": "execute_result"
    }
   ],
   "source": [
    "df5.tail(5)"
   ]
  },
  {
   "cell_type": "markdown",
   "metadata": {},
   "source": [
    "## 2. Data Exploration\n"
   ]
  },
  {
   "cell_type": "markdown",
   "metadata": {
    "collapsed": true
   },
   "source": [
    "### 2.1 Aggregate Statistics\n",
    "2.1.1 Calculating the mean, std, and max of loan_amnt, int_rate, and installment, grouped by home_ownership"
   ]
  },
  {
   "cell_type": "code",
   "execution_count": 383,
   "metadata": {},
   "outputs": [
    {
     "data": {
      "text/html": [
       "<div>\n",
       "<style>\n",
       "    .dataframe thead tr:only-child th {\n",
       "        text-align: right;\n",
       "    }\n",
       "\n",
       "    .dataframe thead th {\n",
       "        text-align: left;\n",
       "    }\n",
       "\n",
       "    .dataframe tbody tr th {\n",
       "        vertical-align: top;\n",
       "    }\n",
       "</style>\n",
       "<table border=\"1\" class=\"dataframe\">\n",
       "  <thead>\n",
       "    <tr>\n",
       "      <th></th>\n",
       "      <th colspan=\"3\" halign=\"left\">loan_amnt</th>\n",
       "      <th colspan=\"3\" halign=\"left\">int_rate</th>\n",
       "      <th colspan=\"3\" halign=\"left\">installment</th>\n",
       "    </tr>\n",
       "    <tr>\n",
       "      <th></th>\n",
       "      <th>max</th>\n",
       "      <th>average</th>\n",
       "      <th>standard deviation</th>\n",
       "      <th>max</th>\n",
       "      <th>average</th>\n",
       "      <th>standard deviation</th>\n",
       "      <th>max</th>\n",
       "      <th>average</th>\n",
       "      <th>standard deviation</th>\n",
       "    </tr>\n",
       "    <tr>\n",
       "      <th>home_ownership</th>\n",
       "      <th></th>\n",
       "      <th></th>\n",
       "      <th></th>\n",
       "      <th></th>\n",
       "      <th></th>\n",
       "      <th></th>\n",
       "      <th></th>\n",
       "      <th></th>\n",
       "      <th></th>\n",
       "    </tr>\n",
       "  </thead>\n",
       "  <tbody>\n",
       "    <tr>\n",
       "      <th>MORTGAGE</th>\n",
       "      <td>35000</td>\n",
       "      <td>16367.176613</td>\n",
       "      <td>8732.878021</td>\n",
       "      <td>28.99</td>\n",
       "      <td>12.994141</td>\n",
       "      <td>4.392727</td>\n",
       "      <td>1362.70</td>\n",
       "      <td>475.136414</td>\n",
       "      <td>251.613042</td>\n",
       "    </tr>\n",
       "    <tr>\n",
       "      <th>Missing</th>\n",
       "      <td>35000</td>\n",
       "      <td>15000.000000</td>\n",
       "      <td>10113.640012</td>\n",
       "      <td>22.95</td>\n",
       "      <td>14.058750</td>\n",
       "      <td>4.803762</td>\n",
       "      <td>985.67</td>\n",
       "      <td>444.880000</td>\n",
       "      <td>277.971568</td>\n",
       "    </tr>\n",
       "    <tr>\n",
       "      <th>OWN</th>\n",
       "      <td>35000</td>\n",
       "      <td>14128.539382</td>\n",
       "      <td>8282.996505</td>\n",
       "      <td>28.49</td>\n",
       "      <td>13.153123</td>\n",
       "      <td>4.547944</td>\n",
       "      <td>1330.70</td>\n",
       "      <td>422.859776</td>\n",
       "      <td>241.276562</td>\n",
       "    </tr>\n",
       "    <tr>\n",
       "      <th>RENT</th>\n",
       "      <td>35000</td>\n",
       "      <td>12763.002598</td>\n",
       "      <td>7467.144262</td>\n",
       "      <td>27.88</td>\n",
       "      <td>13.555785</td>\n",
       "      <td>4.251060</td>\n",
       "      <td>1327.45</td>\n",
       "      <td>388.181368</td>\n",
       "      <td>220.047197</td>\n",
       "    </tr>\n",
       "  </tbody>\n",
       "</table>\n",
       "</div>"
      ],
      "text/plain": [
       "               loan_amnt                                  int_rate             \\\n",
       "                     max       average standard deviation      max    average   \n",
       "home_ownership                                                                  \n",
       "MORTGAGE           35000  16367.176613        8732.878021    28.99  12.994141   \n",
       "Missing            35000  15000.000000       10113.640012    22.95  14.058750   \n",
       "OWN                35000  14128.539382        8282.996505    28.49  13.153123   \n",
       "RENT               35000  12763.002598        7467.144262    27.88  13.555785   \n",
       "\n",
       "                                  installment                                 \n",
       "               standard deviation         max     average standard deviation  \n",
       "home_ownership                                                                \n",
       "MORTGAGE                 4.392727     1362.70  475.136414         251.613042  \n",
       "Missing                  4.803762      985.67  444.880000         277.971568  \n",
       "OWN                      4.547944     1330.70  422.859776         241.276562  \n",
       "RENT                     4.251060     1327.45  388.181368         220.047197  "
      ]
     },
     "execution_count": 383,
     "metadata": {},
     "output_type": "execute_result"
    }
   ],
   "source": [
    "grouped = df5.groupby('home_ownership')\n",
    "stat=grouped.agg({'loan_amnt':[np.max, np.mean, np.std],\n",
    "             'int_rate':[np.max,np.mean,np.std],\n",
    "             'installment':[np.max,np.mean,np.std]}).rename(columns={'amax':'max','mean':'average','std':'standard deviation'})\n",
    "\n",
    "stat\n"
   ]
  },
  {
   "cell_type": "markdown",
   "metadata": {
    "collapsed": true
   },
   "source": [
    "2.1.2 Now reshaping the above results, such that home_ownership and variable names (loan_amnt, int_rate, and installment) are indexes on the column, whereas the statistics (mean, std, max) are indexes on the row"
   ]
  },
  {
   "cell_type": "code",
   "execution_count": 415,
   "metadata": {},
   "outputs": [
    {
     "data": {
      "text/html": [
       "<div>\n",
       "<style>\n",
       "    .dataframe thead tr:only-child th {\n",
       "        text-align: right;\n",
       "    }\n",
       "\n",
       "    .dataframe thead th {\n",
       "        text-align: left;\n",
       "    }\n",
       "\n",
       "    .dataframe tbody tr th {\n",
       "        vertical-align: top;\n",
       "    }\n",
       "</style>\n",
       "<table border=\"1\" class=\"dataframe\">\n",
       "  <thead>\n",
       "    <tr>\n",
       "      <th></th>\n",
       "      <th colspan=\"4\" halign=\"left\">installment</th>\n",
       "      <th colspan=\"4\" halign=\"left\">int_rate</th>\n",
       "      <th colspan=\"4\" halign=\"left\">loan_amnt</th>\n",
       "    </tr>\n",
       "    <tr>\n",
       "      <th>home_ownership</th>\n",
       "      <th>MORTGAGE</th>\n",
       "      <th>Missing</th>\n",
       "      <th>OWN</th>\n",
       "      <th>RENT</th>\n",
       "      <th>MORTGAGE</th>\n",
       "      <th>Missing</th>\n",
       "      <th>OWN</th>\n",
       "      <th>RENT</th>\n",
       "      <th>MORTGAGE</th>\n",
       "      <th>Missing</th>\n",
       "      <th>OWN</th>\n",
       "      <th>RENT</th>\n",
       "    </tr>\n",
       "  </thead>\n",
       "  <tbody>\n",
       "    <tr>\n",
       "      <th>average</th>\n",
       "      <td>475.136414</td>\n",
       "      <td>444.880000</td>\n",
       "      <td>422.859776</td>\n",
       "      <td>388.181368</td>\n",
       "      <td>12.994141</td>\n",
       "      <td>14.058750</td>\n",
       "      <td>13.153123</td>\n",
       "      <td>13.555785</td>\n",
       "      <td>16367.176613</td>\n",
       "      <td>15000.000000</td>\n",
       "      <td>14128.539382</td>\n",
       "      <td>12763.002598</td>\n",
       "    </tr>\n",
       "    <tr>\n",
       "      <th>max</th>\n",
       "      <td>1362.700000</td>\n",
       "      <td>985.670000</td>\n",
       "      <td>1330.700000</td>\n",
       "      <td>1327.450000</td>\n",
       "      <td>28.990000</td>\n",
       "      <td>22.950000</td>\n",
       "      <td>28.490000</td>\n",
       "      <td>27.880000</td>\n",
       "      <td>35000.000000</td>\n",
       "      <td>35000.000000</td>\n",
       "      <td>35000.000000</td>\n",
       "      <td>35000.000000</td>\n",
       "    </tr>\n",
       "    <tr>\n",
       "      <th>standard deviation</th>\n",
       "      <td>251.613042</td>\n",
       "      <td>277.971568</td>\n",
       "      <td>241.276562</td>\n",
       "      <td>220.047197</td>\n",
       "      <td>4.392727</td>\n",
       "      <td>4.803762</td>\n",
       "      <td>4.547944</td>\n",
       "      <td>4.251060</td>\n",
       "      <td>8732.878021</td>\n",
       "      <td>10113.640012</td>\n",
       "      <td>8282.996505</td>\n",
       "      <td>7467.144262</td>\n",
       "    </tr>\n",
       "  </tbody>\n",
       "</table>\n",
       "</div>"
      ],
      "text/plain": [
       "                    installment                                        \\\n",
       "home_ownership         MORTGAGE     Missing          OWN         RENT   \n",
       "average              475.136414  444.880000   422.859776   388.181368   \n",
       "max                 1362.700000  985.670000  1330.700000  1327.450000   \n",
       "standard deviation   251.613042  277.971568   241.276562   220.047197   \n",
       "\n",
       "                     int_rate                                      loan_amnt  \\\n",
       "home_ownership       MORTGAGE    Missing        OWN       RENT      MORTGAGE   \n",
       "average             12.994141  14.058750  13.153123  13.555785  16367.176613   \n",
       "max                 28.990000  22.950000  28.490000  27.880000  35000.000000   \n",
       "standard deviation   4.392727   4.803762   4.547944   4.251060   8732.878021   \n",
       "\n",
       "                                                              \n",
       "home_ownership           Missing           OWN          RENT  \n",
       "average             15000.000000  14128.539382  12763.002598  \n",
       "max                 35000.000000  35000.000000  35000.000000  \n",
       "standard deviation  10113.640012   8282.996505   7467.144262  "
      ]
     },
     "execution_count": 415,
     "metadata": {},
     "output_type": "execute_result"
    }
   ],
   "source": [
    "statstack=stat.stack()\n",
    "statstack.unstack(level=0)"
   ]
  },
  {
   "cell_type": "markdown",
   "metadata": {},
   "source": [
    "### 2.2 Visualization"
   ]
  },
  {
   "cell_type": "markdown",
   "metadata": {},
   "source": [
    "2.2.1 Plotting the means and errors (use one standard deviation of population) of \"loan_amnt\" and \"int_rate\" by different types of \"grade\", in two subplots"
   ]
  },
  {
   "cell_type": "code",
   "execution_count": 422,
   "metadata": {},
   "outputs": [
    {
     "name": "stderr",
     "output_type": "stream",
     "text": [
      "C:\\Users\\Karpagam\\Anaconda3\\lib\\site-packages\\ipykernel_launcher.py:2: FutureWarning: using a dict on a Series for aggregation\n",
      "is deprecated and will be removed in a future version\n",
      "  \n",
      "C:\\Users\\Karpagam\\Anaconda3\\lib\\site-packages\\ipykernel_launcher.py:3: FutureWarning: using a dict on a Series for aggregation\n",
      "is deprecated and will be removed in a future version\n",
      "  This is separate from the ipykernel package so we can avoid doing imports until\n"
     ]
    },
    {
     "data": {
      "text/plain": [
       "<matplotlib.axes._subplots.AxesSubplot at 0x27699f80cf8>"
      ]
     },
     "execution_count": 422,
     "metadata": {},
     "output_type": "execute_result"
    },
    {
     "data": {
      "image/png": "[encoded data removed]",
      "text/plain": [
       "<matplotlib.figure.Figure at 0x27698469470>"
      ]
     },
     "metadata": {},
     "output_type": "display_data"
    }
   ],
   "source": [
    "\n",
    "trace1=df5.groupby(['grade'])['loan_amnt'].aggregate({'loan_amnt':[np.mean,lambda x: np.std(x, ddof=1)]}).rename(columns={'mean':\"means\",'<lambda>':'errors'})\n",
    "trace2=df5.groupby(['grade'])['int_rate'].aggregate({'int_rate':[np.mean,lambda x: np.std(x, ddof=1)]}).rename(columns={'mean':\"means\",'<lambda>':'errors'})\n",
    "\n",
    "\n",
    "\n",
    "trace1.rename(columns={'mean': 'means', '<lambda>': 'errors'}, inplace=True)\n",
    "trace2.rename(columns={'mean': 'means', '<lambda>': 'errors'}, inplace=True)\n",
    "\n",
    "plt.figure(1)\n",
    "plt.subplot(2,2,1)\n",
    "trace1.plot.bar(ax=plt.gca(),title='Loan Amount',figsize=(10,12))\n",
    "plt.subplot(2,2,2)\n",
    "trace2.plot.bar(ax=plt.gca(),title='Interest Rate',figsize=(10,12))\n",
    "\n",
    "\n",
    "\n"
   ]
  },
  {
   "cell_type": "code",
   "execution_count": 423,
   "metadata": {},
   "outputs": [
    {
     "data": {
      "text/plain": [
       "array([<matplotlib.axes._subplots.AxesSubplot object at 0x0000027699CCE470>,\n",
       "       <matplotlib.axes._subplots.AxesSubplot object at 0x000002769E59D0B8>], dtype=object)"
      ]
     },
     "execution_count": 423,
     "metadata": {},
     "output_type": "execute_result"
    },
    {
     "data": {
      "image/png": "[encoded data removed]",
      "text/plain": [
       "<matplotlib.figure.Figure at 0x2769cc5c390>"
      ]
     },
     "metadata": {},
     "output_type": "display_data"
    }
   ],
   "source": [
    "vis = df5.groupby('grade')[['loan_amnt','int_rate']]\n",
    "means=vis.mean()\n",
    "errors=vis.std(ddof=1)\n",
    "\n",
    "vis1=pd.concat({\"Means\":means,\"Errors\":errors},axis=1)\n",
    "\n",
    "vis2=vis1.stack(level=0)\n",
    "vis2.head()\n",
    "\n",
    "\n",
    "\n",
    "\n",
    "vis2.plot.bar(subplots=True, figsize=(8, 4))\n",
    "\n"
   ]
  },
  {
   "cell_type": "markdown",
   "metadata": {},
   "source": [
    "2.2.2 Plot the histograms of \"loan_amnt\" under different types of \"term\" in one plot"
   ]
  },
  {
   "cell_type": "code",
   "execution_count": 194,
   "metadata": {},
   "outputs": [
    {
     "data": {
      "text/plain": [
       "term\n",
       "36    Axes(0.125,0.125;0.775x0.755)\n",
       "60    Axes(0.125,0.125;0.775x0.755)\n",
       "Name: loan_amnt, dtype: object"
      ]
     },
     "execution_count": 194,
     "metadata": {},
     "output_type": "execute_result"
    },
    {
     "data": {
      "image/png": "[encoded data removed]",
      "text/plain": [
       "<matplotlib.figure.Figure at 0x276ab24dac8>"
      ]
     },
     "metadata": {},
     "output_type": "display_data"
    }
   ],
   "source": [
    "x = df5.groupby(['term'])['loan_amnt']\n",
    "plt.figure()\n",
    "x.plot.hist(bins=100,legend=True)\n"
   ]
  },
  {
   "cell_type": "markdown",
   "metadata": {},
   "source": [
    "2.2.3 Making a plot that shows the number of loans in each month (based on column \"issue_d\"). Meanwhile, plotting the total amount of loans in each month on the secondary y axis."
   ]
  },
  {
   "cell_type": "code",
   "execution_count": 190,
   "metadata": {},
   "outputs": [
    {
     "data": {
      "text/plain": [
       "<matplotlib.text.Text at 0x276aa0fd208>"
      ]
     },
     "execution_count": 190,
     "metadata": {},
     "output_type": "execute_result"
    },
    {
     "data": {
      "text/plain": [
       "<matplotlib.figure.Figure at 0x276a61c4080>"
      ]
     },
     "metadata": {},
     "output_type": "display_data"
    },
    {
     "data": {
      "image/png": "[encoded data removed]",
      "text/plain": [
       "<matplotlib.figure.Figure at 0x276a9d32978>"
      ]
     },
     "metadata": {},
     "output_type": "display_data"
    }
   ],
   "source": [
    "\n",
    "per = df5.issue_d.dt.to_period(\"M\")  \n",
    "g = df5.loan_amnt.groupby(per)\n",
    "dfsum=pd.DataFrame(g.sum())\n",
    "dfcount=pd.DataFrame(g.count())\n",
    "visdf=pd.concat({'sum':dfsum,'count': dfcount},axis=1)\n",
    "\n",
    "visdf.columns = visdf.columns.droplevel(1)\n",
    "\n",
    "plt.figure()\n",
    "ax = visdf[['count','sum']].plot(secondary_y = ['sum'], figsize = (12,10))\n",
    "ax.set_ylabel('Number of Loans')\n",
    "ax.right_ax.set_ylabel('Loan Amounts')\n",
    "ax.set_xlabel('Months')\n",
    "ax.set_title(\"Time analysis of loans \")\n"
   ]
  },
  {
   "cell_type": "code",
   "execution_count": null,
   "metadata": {
    "collapsed": true
   },
   "outputs": [],
   "source": []
  },
  {
   "cell_type": "code",
   "execution_count": null,
   "metadata": {
    "collapsed": true
   },
   "outputs": [],
   "source": []
  }
 ],
 "metadata": {
  "kernelspec": {
   "display_name": "Python 3",
   "language": "python",
   "name": "python3"
  },
  "language_info": {
   "codemirror_mode": {
    "name": "ipython",
    "version": 3
   },
   "file_extension": ".py",
   "mimetype": "text/x-python",
   "name": "python",
   "nbconvert_exporter": "python",
   "pygments_lexer": "ipython3",
   "version": "3.6.1"
  }
 },
 "nbformat": 4,
 "nbformat_minor": 2
}
